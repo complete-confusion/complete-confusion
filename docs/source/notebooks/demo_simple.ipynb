{
 "cells": [
  {
   "cell_type": "markdown",
   "id": "97bc733b",
   "metadata": {},
   "source": [
    "# Complete Confusion Demo\n",
    "\n",
    "This notebook demonstrates the basic functionality of the Complete Confusion library."
   ]
  },
  {
   "cell_type": "code",
   "execution_count": null,
   "id": "fcd09773",
   "metadata": {},
   "outputs": [],
   "source": [
    "import complete_confusion as cc\n",
    "\n",
    "# Example data\n",
    "predictions = [0, 1, 0, 2, 1, 2, 0]\n",
    "true_labels = [0, 1, 0, 2, 0, 2, 2]\n",
    "class_names = [\"Class A\", \"Class B\", \"Class C\"]\n",
    "\n",
    "# Generate performance metrics HTML report\n",
    "cc.save_performance_metrics_to_html(\n",
    "    predictions, \n",
    "    true_labels, \n",
    "    class_names,\n",
    "    output_file=\"demo_performance_report.html\"\n",
    ")\n",
    "\n",
    "print(\"Performance report generated successfully!\")"
   ]
  }
 ],
 "metadata": {
  "language_info": {
   "name": "python"
  }
 },
 "nbformat": 4,
 "nbformat_minor": 5
}
