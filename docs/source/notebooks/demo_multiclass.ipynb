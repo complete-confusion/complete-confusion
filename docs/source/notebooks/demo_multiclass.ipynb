{
 "cells": [
  {
   "cell_type": "markdown",
   "id": "46bfbae5",
   "metadata": {},
   "source": [
    "# Multiclass example"
   ]
  },
  {
   "cell_type": "markdown",
   "id": "fa9c12a4",
   "metadata": {},
   "source": [
    "This example trains a simple multiclass classifier and saves the resulting report with the Complete Confusion package. A pre-generated report is available here: https://complete-confusion.github.io/complete-confusion/notebooks/multiclass_output/complete-confusion.html"
   ]
  },
  {
   "cell_type": "markdown",
   "id": "6b35cd1c",
   "metadata": {},
   "source": [
    "## Import Libraries\n",
    "\n",
    "First, let's import the necessary libraries:"
   ]
  },
  {
   "cell_type": "code",
   "execution_count": 1,
   "id": "46804651",
   "metadata": {},
   "outputs": [],
   "source": [
    "import complete_confusion as cc\n",
    "import numpy as np\n",
    "import os\n",
    "from sklearn.datasets import make_classification\n",
    "from sklearn.ensemble import RandomForestClassifier\n",
    "from sklearn.model_selection import train_test_split"
   ]
  },
  {
   "cell_type": "markdown",
   "id": "427c27eb",
   "metadata": {},
   "source": [
    "## Realistic Example with Synthetic Data\n",
    "\n",
    "Using scikit-learn to generate synthetic data and train a model"
   ]
  },
  {
   "cell_type": "code",
   "execution_count": 2,
   "id": "db89bcae",
   "metadata": {},
   "outputs": [
    {
     "name": "stdout",
     "output_type": "stream",
     "text": [
      "Training set size: 700\n",
      "Test set size: 300\n",
      "Number of features: 20\n",
      "Number of classes: 4\n"
     ]
    }
   ],
   "source": [
    "# Generate synthetic dataset\n",
    "X, y = make_classification(\n",
    "    n_samples=1000,\n",
    "    n_features=20,\n",
    "    n_informative=15,\n",
    "    n_redundant=3,\n",
    "    n_classes=4,\n",
    "    random_state=42\n",
    ")\n",
    "\n",
    "# Split the data\n",
    "X_train, X_test, y_train, y_test = train_test_split(\n",
    "    X, y, test_size=0.3, random_state=42\n",
    ")\n",
    "\n",
    "print(f\"Training set size: {len(X_train)}\")\n",
    "print(f\"Test set size: {len(X_test)}\")\n",
    "print(f\"Number of features: {X.shape[1]}\")\n",
    "print(f\"Number of classes: {len(np.unique(y))}\")"
   ]
  },
  {
   "cell_type": "code",
   "execution_count": 3,
   "id": "b76d7868",
   "metadata": {},
   "outputs": [
    {
     "name": "stdout",
     "output_type": "stream",
     "text": [
      "Model trained successfully!\n",
      "Predictions shape: (300,)\n"
     ]
    }
   ],
   "source": [
    "# Train a Random Forest model\n",
    "model = RandomForestClassifier(n_estimators=100, random_state=42)\n",
    "model.fit(X_train, y_train)\n",
    "\n",
    "# Make predictions\n",
    "predictions = model.predict(X_test)\n",
    "\n",
    "print(f\"Model trained successfully!\")\n",
    "print(f\"Predictions shape: {predictions.shape}\")"
   ]
  },
  {
   "cell_type": "code",
   "execution_count": 4,
   "id": "865f2393",
   "metadata": {},
   "outputs": [
    {
     "name": "stdout",
     "output_type": "stream",
     "text": [
      "Random Forest performance report generated: multiclass_output/complete-confusion.html\n",
      "Pre-generated output is available at https://complete-confusion.github.io/complete-confusion/notebooks/multiclass_output/complete-confusion.html\n"
     ]
    }
   ],
   "source": [
    "# Define class names\n",
    "class_names = [f\"Category_{i}\" for i in range(4)]\n",
    "\n",
    "# Generate comprehensive performance report\n",
    "cc.save_performance_metrics_to_html(\n",
    "    predictions,\n",
    "    y_test,\n",
    "    class_names,\n",
    "    output_path=\"multiclass_output\"\n",
    ")\n",
    "\n",
    "print(\"Random Forest performance report generated: multiclass_output/complete-confusion.html\")\n",
    "print(\"Pre-generated output is available at https://complete-confusion.github.io/complete-confusion/notebooks/multiclass_output/complete-confusion.html\")"
   ]
  }
 ],
 "metadata": {
  "kernelspec": {
   "display_name": "complete-confusion-py3.12",
   "language": "python",
   "name": "python3"
  },
  "language_info": {
   "codemirror_mode": {
    "name": "ipython",
    "version": 3
   },
   "file_extension": ".py",
   "mimetype": "text/x-python",
   "name": "python",
   "nbconvert_exporter": "python",
   "pygments_lexer": "ipython3",
   "version": "3.12.4"
  }
 },
 "nbformat": 4,
 "nbformat_minor": 5
}
