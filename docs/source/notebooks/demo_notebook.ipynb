{
 "cells": [
  {
   "cell_type": "markdown",
   "id": "46bfbae5",
   "metadata": {},
   "source": [
    "# Complete Confusion Demos\n",
    "\n",
    "This notebook demonstrates the basic functionality of the Complete Confusion library for generating performance metrics and visualizations for classification models."
   ]
  },
  {
   "cell_type": "markdown",
   "id": "fa9c12a4",
   "metadata": {},
   "source": [
    "1. **Basic usage** - minimal example with predefined data\n",
    "2. **Multi-class classification** - with synthetic data and Random Forest\n",
    "3. **Binary classification** - another example\n",
    "\n",
    "Each example generates an HTML report containing:\n",
    "- Interactive confusion matrix\n",
    "- Performance metrics (precision, recall, F1-score)\n",
    "- Per-class statistics\n",
    "- Detailed visualizations\n",
    "\n",
    "The generated HTML files can be opened in any web browser for interactive exploration of the results."
   ]
  },
  {
   "cell_type": "markdown",
   "id": "6b35cd1c",
   "metadata": {},
   "source": [
    "## Import Libraries\n",
    "\n",
    "First, let's import the necessary libraries:"
   ]
  },
  {
   "cell_type": "code",
   "execution_count": 28,
   "id": "46804651",
   "metadata": {},
   "outputs": [],
   "source": [
    "import complete_confusion as cc\n",
    "import numpy as np\n",
    "import os\n",
    "from sklearn.datasets import make_classification\n",
    "from sklearn.ensemble import RandomForestClassifier\n",
    "from sklearn.model_selection import train_test_split"
   ]
  },
  {
   "cell_type": "markdown",
   "id": "dfe8bb11",
   "metadata": {},
   "source": [
    "## Basic Example\n",
    "\n",
    "Let's start with a simple example using predefined data:"
   ]
  },
  {
   "cell_type": "code",
   "execution_count": 23,
   "id": "46cd40cd",
   "metadata": {},
   "outputs": [
    {
     "name": "stdout",
     "output_type": "stream",
     "text": [
      "Basic example report generated: example_output/confusion_matrix.html\n"
     ]
    }
   ],
   "source": [
    "# Example data\n",
    "predictions = [0, 1, 0, 2, 1, 2, 0, 1, 2, 0]\n",
    "true_labels = [0, 1, 0, 2, 0, 2, 2, 1, 1, 0]\n",
    "class_names = [\"Class A\", \"Class B\", \"Class C\"]\n",
    "\n",
    "# Create output directory\n",
    "os.makedirs(\"example_output\", exist_ok=True)\n",
    "\n",
    "# Generate performance metrics HTML report\n",
    "cc.save_performance_metrics_to_html(\n",
    "    predictions, \n",
    "    true_labels, \n",
    "    class_names,\n",
    "    output_path=\"example_output\"\n",
    ")\n",
    "\n",
    "print(\"Basic example report generated: example_output/confusion_matrix.html\")"
   ]
  },
  {
   "cell_type": "markdown",
   "id": "427c27eb",
   "metadata": {},
   "source": [
    "## Realistic Example with Synthetic Data\n",
    "\n",
    "Now let's create a more realistic example using scikit-learn to generate synthetic data and train a model:"
   ]
  },
  {
   "cell_type": "code",
   "execution_count": 24,
   "id": "db89bcae",
   "metadata": {},
   "outputs": [
    {
     "name": "stdout",
     "output_type": "stream",
     "text": [
      "Training set size: 700\n",
      "Test set size: 300\n",
      "Number of features: 20\n",
      "Number of classes: 4\n"
     ]
    }
   ],
   "source": [
    "# Generate synthetic dataset\n",
    "X, y = make_classification(\n",
    "    n_samples=1000,\n",
    "    n_features=20,\n",
    "    n_informative=15,\n",
    "    n_redundant=3,\n",
    "    n_classes=4,\n",
    "    random_state=42\n",
    ")\n",
    "\n",
    "# Split the data\n",
    "X_train, X_test, y_train, y_test = train_test_split(\n",
    "    X, y, test_size=0.3, random_state=42\n",
    ")\n",
    "\n",
    "print(f\"Training set size: {len(X_train)}\")\n",
    "print(f\"Test set size: {len(X_test)}\")\n",
    "print(f\"Number of features: {X.shape[1]}\")\n",
    "print(f\"Number of classes: {len(np.unique(y))}\")"
   ]
  },
  {
   "cell_type": "code",
   "execution_count": 25,
   "id": "b76d7868",
   "metadata": {},
   "outputs": [
    {
     "name": "stdout",
     "output_type": "stream",
     "text": [
      "Model trained successfully!\n",
      "Predictions shape: (300,)\n"
     ]
    }
   ],
   "source": [
    "# Train a Random Forest model\n",
    "model = RandomForestClassifier(n_estimators=100, random_state=42)\n",
    "model.fit(X_train, y_train)\n",
    "\n",
    "# Make predictions\n",
    "predictions = model.predict(X_test)\n",
    "\n",
    "print(f\"Model trained successfully!\")\n",
    "print(f\"Predictions shape: {predictions.shape}\")"
   ]
  },
  {
   "cell_type": "code",
   "execution_count": 26,
   "id": "865f2393",
   "metadata": {},
   "outputs": [
    {
     "name": "stdout",
     "output_type": "stream",
     "text": [
      "Random Forest performance report generated: random_forest_performance/confusion_matrix.html\n"
     ]
    }
   ],
   "source": [
    "# Define class names\n",
    "class_names = [f\"Category_{i}\" for i in range(4)]\n",
    "\n",
    "# Generate comprehensive performance report\n",
    "cc.save_performance_metrics_to_html(\n",
    "    predictions,\n",
    "    y_test,\n",
    "    class_names,\n",
    "    output_path=\"random_forest_performance\"\n",
    ")\n",
    "\n",
    "print(\"Random Forest performance report generated: random_forest_performance/confusion_matrix.html\")"
   ]
  },
  {
   "cell_type": "markdown",
   "id": "907bf365",
   "metadata": {},
   "source": [
    "## Binary Classification Example\n",
    "\n",
    "Let's also demonstrate binary classification:"
   ]
  },
  {
   "cell_type": "code",
   "execution_count": 27,
   "id": "5a28af8e",
   "metadata": {},
   "outputs": [
    {
     "name": "stdout",
     "output_type": "stream",
     "text": [
      "Binary classification report generated: binary_classification_performance/confusion_matrix.html\n"
     ]
    }
   ],
   "source": [
    "# Generate binary classification data\n",
    "X_binary, y_binary = make_classification(\n",
    "    n_samples=500,\n",
    "    n_features=10,\n",
    "    n_informative=8,\n",
    "    n_redundant=1,\n",
    "    n_classes=2,\n",
    "    n_clusters_per_class=1,\n",
    "    random_state=42\n",
    ")\n",
    "\n",
    "# Split the data\n",
    "X_train_bin, X_test_bin, y_train_bin, y_test_bin = train_test_split(\n",
    "    X_binary, y_binary, test_size=0.3, random_state=42\n",
    ")\n",
    "\n",
    "# Train model\n",
    "binary_model = RandomForestClassifier(n_estimators=50, random_state=42)\n",
    "binary_model.fit(X_train_bin, y_train_bin)\n",
    "\n",
    "# Make predictions\n",
    "binary_predictions = binary_model.predict(X_test_bin)\n",
    "\n",
    "# Generate report\n",
    "binary_class_names = [\"Negative\", \"Positive\"]\n",
    "cc.save_performance_metrics_to_html(\n",
    "    binary_predictions,\n",
    "    y_test_bin,\n",
    "    binary_class_names,\n",
    "    output_path=\"binary_classification_performance\"\n",
    ")\n",
    "\n",
    "print(\"Binary classification report generated: binary_classification_performance/confusion_matrix.html\")"
   ]
  }
 ],
 "metadata": {
  "kernelspec": {
   "display_name": "complete-confusion-py3.12",
   "language": "python",
   "name": "python3"
  },
  "language_info": {
   "codemirror_mode": {
    "name": "ipython",
    "version": 3
   },
   "file_extension": ".py",
   "mimetype": "text/x-python",
   "name": "python",
   "nbconvert_exporter": "python",
   "pygments_lexer": "ipython3",
   "version": "3.12.4"
  }
 },
 "nbformat": 4,
 "nbformat_minor": 5
}
