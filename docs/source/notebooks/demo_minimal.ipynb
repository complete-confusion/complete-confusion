{
 "cells": [
  {
   "cell_type": "markdown",
   "id": "46bfbae5",
   "metadata": {},
   "source": [
    "# Minimal example"
   ]
  },
  {
   "cell_type": "markdown",
   "id": "fa9c12a4",
   "metadata": {},
   "source": [
    "This demonstrates the minimal code needed to generate a report. A pre-generated report is available here: https://complete-confusion.github.io/complete-confusion/notebooks/example_output/complete-confusion.html"
   ]
  },
  {
   "cell_type": "code",
   "execution_count": 2,
   "id": "46cd40cd",
   "metadata": {},
   "outputs": [
    {
     "name": "stdout",
     "output_type": "stream",
     "text": [
      "Basic example report generated: example_output/complete-confusion.html\n",
      "Pre-generated output is available at https://complete-confusion.github.io/complete-confusion/notebooks/example_output/complete-confusion.html\n"
     ]
    }
   ],
   "source": [
    "import complete_confusion as cc\n",
    "import os\n",
    "\n",
    "# Example data\n",
    "predictions = [0, 1, 0, 2, 1, 2, 0, 1, 2, 0]\n",
    "true_labels = [0, 1, 0, 2, 0, 2, 2, 1, 1, 0]\n",
    "class_names = [\"Class A\", \"Class B\", \"Class C\"]\n",
    "\n",
    "# Generate performance metrics HTML report\n",
    "cc.save_performance_metrics_to_html(\n",
    "    predictions, \n",
    "    true_labels, \n",
    "    class_names,\n",
    "    output_path=\"example_output\"\n",
    ")\n",
    "\n",
    "print(\"Basic example report generated: example_output/complete-confusion.html\")\n",
    "print(\"Pre-generated output is available at https://complete-confusion.github.io/complete-confusion/notebooks/example_output/complete-confusion.html\")"
   ]
  }
 ],
 "metadata": {
  "kernelspec": {
   "display_name": "complete-confusion-py3.12",
   "language": "python",
   "name": "python3"
  },
  "language_info": {
   "codemirror_mode": {
    "name": "ipython",
    "version": 3
   },
   "file_extension": ".py",
   "mimetype": "text/x-python",
   "name": "python",
   "nbconvert_exporter": "python",
   "pygments_lexer": "ipython3",
   "version": "3.12.4"
  }
 },
 "nbformat": 4,
 "nbformat_minor": 5
}
